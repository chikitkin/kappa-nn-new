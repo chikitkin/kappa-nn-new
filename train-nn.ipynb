{
 "cells": [
  {
   "cell_type": "markdown",
   "metadata": {},
   "source": [
    "Генерируем сетку и записываем её в файл input.txt"
   ]
  },
  {
   "cell_type": "code",
   "execution_count": 14,
   "metadata": {},
   "outputs": [
    {
     "name": "stdout",
     "output_type": "stream",
     "text": [
      "[1.00000000e+05 2.50000000e+03 1.66666667e-01 1.66666667e-01\n",
      " 1.66666667e-01 1.66666667e-01 3.33333333e-01]\n",
      "(60, 7)\n"
     ]
    }
   ],
   "source": [
    "%matplotlib inline\n",
    "import numpy as np\n",
    "from matplotlib import pyplot  as plt\n",
    "from mpl_toolkits import mplot3d\n",
    "\n",
    "# Число компонент\n",
    "ncomp = 5 # Воздух, O2, N2, NO, O, N\n",
    "\n",
    "# Число узлов по давлению\n",
    "p_points = 2\n",
    "# Число узлов по температуре\n",
    "T_points = 2\n",
    "# Число узлов по одной концентрации в сетке на симплексе\n",
    "x_points = 7\n",
    "\n",
    "# Создаём равномерные сетки по p, T\n",
    "p_mesh = np.linspace(1e+5, 1.1e+5, p_points)\n",
    "T_mesh = np.linspace(2.5e+3, 5e+3, T_points)\n",
    "\n",
    "# Создаём равномерную сетку на симплексе sum(x_i) = 1\n",
    "ind = 0 # Номер точки в сетке по концентрациям\n",
    "h = 1 / (x_points - 1)\n",
    "x_mesh = []\n",
    "for i1 in range(x_points):\n",
    "    x1 = i1 * h\n",
    "    for i2 in range(x_points - i1):\n",
    "        x2 = i2 * h\n",
    "        for i3 in range(x_points - i1 - i2):\n",
    "            x3 = i3 * h\n",
    "            for i4 in range(x_points - i1 - i2 - i3):\n",
    "                x4 = i4 * h\n",
    "                x5 = 1 - x1 - x2 - x3 - x4 \n",
    "                points = np.array([x1, x2, x3, x4, x5])\n",
    "                assert (sum(points) - 1) < 1e-13\n",
    "                if (not np.any(points == 0)):\n",
    "                    x_mesh.append([x1, x2, x3, x4, x5])\n",
    "#                     print(x_mesh[-1])\n",
    "                    ind = ind + 1\n",
    "\n",
    "\n",
    "import itertools\n",
    "mesh = []\n",
    "for element in itertools.product(p_mesh, T_mesh, x_mesh):\n",
    "#     print (type(element[0]))\n",
    "#     print (type(element[1]))\n",
    "#     print (type(element[2]))\n",
    "    list_ = [element[0]] + [element[1]] + element[2]\n",
    "    mesh.append(np.array(list_))\n",
    "\n",
    "print(mesh[0])\n",
    "mesh = np.array(mesh)\n",
    "print(mesh.shape)\n",
    "\n",
    "# write mesh to file\n",
    "\n",
    "np.savetxt('input.txt', header = str(mesh.shape[0]) +'\\n' + \n",
    "           'p T x1 x2 x3 x4 x5', X = mesh, comments='')"
   ]
  },
  {
   "cell_type": "code",
   "execution_count": null,
   "metadata": {},
   "outputs": [],
   "source": []
  }
 ],
 "metadata": {
  "kernelspec": {
   "display_name": "Python 3",
   "language": "python",
   "name": "python3"
  },
  "language_info": {
   "codemirror_mode": {
    "name": "ipython",
    "version": 3
   },
   "file_extension": ".py",
   "mimetype": "text/x-python",
   "name": "python",
   "nbconvert_exporter": "python",
   "pygments_lexer": "ipython3",
   "version": "3.6.5"
  }
 },
 "nbformat": 4,
 "nbformat_minor": 2
}
