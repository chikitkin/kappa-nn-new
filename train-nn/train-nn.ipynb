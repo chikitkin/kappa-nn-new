{
 "cells": [
  {
   "cell_type": "markdown",
   "metadata": {},
   "source": [
    "Генерируем сетку и записываем её в файл input.txt"
   ]
  },
  {
   "cell_type": "code",
   "execution_count": 1,
   "metadata": {},
   "outputs": [
    {
     "name": "stdout",
     "output_type": "stream",
     "text": [
      "[1.00000000e+05 1.00000000e+03 1.66666667e-01 1.66666667e-01\n",
      " 1.66666667e-01 1.66666667e-01 3.33333333e-01]\n",
      "(2000, 7)\n"
     ]
    }
   ],
   "source": [
    "%matplotlib inline\n",
    "import numpy as np\n",
    "from matplotlib import pyplot  as plt\n",
    "from mpl_toolkits import mplot3d\n",
    "\n",
    "# Число компонент\n",
    "ncomp = 5 # Воздух, O2, N2, NO, O, N\n",
    "\n",
    "# Число узлов по давлению\n",
    "p_points = 20\n",
    "# Число узлов по температуре\n",
    "T_points = 20\n",
    "# Число узлов по одной концентрации в сетке на симплексе\n",
    "x_points = 7\n",
    "\n",
    "# Создаём равномерные сетки по p, T\n",
    "p_mesh = np.linspace(1e+5, 2.0e+5, p_points)\n",
    "T_mesh = np.linspace(1.0e+3, 2e+3, T_points)\n",
    "\n",
    "# Создаём равномерную сетку на симплексе sum(x_i) = 1\n",
    "ind = 0 # Номер точки в сетке по концентрациям\n",
    "h = 1 / (x_points - 1)\n",
    "x_mesh = []\n",
    "for i1 in range(x_points):\n",
    "    x1 = i1 * h\n",
    "    for i2 in range(x_points - i1):\n",
    "        x2 = i2 * h\n",
    "        for i3 in range(x_points - i1 - i2):\n",
    "            x3 = i3 * h\n",
    "            for i4 in range(x_points - i1 - i2 - i3):\n",
    "                x4 = i4 * h\n",
    "                x5 = 1 - x1 - x2 - x3 - x4 \n",
    "                points = np.array([x1, x2, x3, x4, x5])\n",
    "                assert (sum(points) - 1) < 1e-13\n",
    "                if (not np.any(points < 1e-10)):\n",
    "                    x_mesh.append([x1, x2, x3, x4, x5])\n",
    "#                     print(x_mesh[-1])\n",
    "                    ind = ind + 1\n",
    "\n",
    "\n",
    "import itertools\n",
    "mesh = []\n",
    "for element in itertools.product(p_mesh, T_mesh, x_mesh):\n",
    "#     print (type(element[0]))\n",
    "#     print (type(element[1]))\n",
    "#     print (type(element[2]))\n",
    "    list_ = [element[0]] + [element[1]] + element[2]\n",
    "    mesh.append(np.array(list_))\n",
    "\n",
    "print(mesh[0])\n",
    "mesh = np.array(mesh)\n",
    "print(mesh.shape)\n",
    "\n",
    "# write mesh to file\n",
    "path = './'\n",
    "file = 'input.txt'\n",
    "np.savetxt(path + file, header = str(mesh.shape[0]) +'\\n' + \n",
    "           'p T x1 x2 x3 x4 x5', X = mesh, comments='')"
   ]
  },
  {
   "cell_type": "markdown",
   "metadata": {},
   "source": [
    "Вызываем программу, которая с помощью Каппа считает коэффициенты диффузии для каждой точки из файла ```input.txt``` и пишет в файл ```output.txt```"
   ]
  },
  {
   "cell_type": "code",
   "execution_count": 17,
   "metadata": {},
   "outputs": [
    {
     "name": "stdout",
     "output_type": "stream",
     "text": [
      "Diffusion coefficient written to file output.txt\n"
     ]
    }
   ],
   "source": [
    "!Проект1.exe"
   ]
  },
  {
   "cell_type": "markdown",
   "metadata": {},
   "source": [
    "Читаем коэффициенты диффузии из файла"
   ]
  },
  {
   "cell_type": "code",
   "execution_count": 2,
   "metadata": {},
   "outputs": [
    {
     "name": "stdout",
     "output_type": "stream",
     "text": [
      "(2000, 15376)\n"
     ]
    }
   ],
   "source": [
    "output_file = 'output.txt'\n",
    "\n",
    "diff_coeffs = np.loadtxt(output_file)\n",
    "print(diff_coeffs.shape)"
   ]
  },
  {
   "cell_type": "markdown",
   "metadata": {},
   "source": [
    "Построим сечения"
   ]
  },
  {
   "cell_type": "code",
   "execution_count": 29,
   "metadata": {},
   "outputs": [
    {
     "name": "stdout",
     "output_type": "stream",
     "text": [
      "(2000,)\n",
      "False\n",
      "z.shape =  (400,)\n"
     ]
    },
    {
     "data": {
      "image/png": "[encoded data removed]",
      "text/plain": [
       "<Figure size 432x288 with 2 Axes>"
      ]
     },
     "metadata": {},
     "output_type": "display_data"
    }
   ],
   "source": [
    "# plt.semilogy(diff_coeffs[0, :124])\n",
    "\n",
    "inds = np.all(mesh[:, 2:] == x_mesh[1], axis = 1)\n",
    "# plt.plot(inds[0:100], 'k.')\n",
    "\n",
    "print(inds.shape)\n",
    "print(inds[0,])\n",
    "mesh_slice = mesh[inds, :]\n",
    "data_slice = diff_coeffs[inds, :]\n",
    "\n",
    "import matplotlib.tri as tri\n",
    "\n",
    "x = mesh_slice[:, 0] # p\n",
    "y = mesh_slice[:, 1] # T\n",
    "\n",
    "z = data_slice[:, 0] # d\n",
    "print('z.shape = ', z.shape)\n",
    "\n",
    "triang = tri.Triangulation(x, y)\n",
    "interpolator = tri.LinearTriInterpolator(triang, z)\n",
    "plt.tricontourf(x, y, z, cmap=\"RdBu_r\")\n",
    "plt.xlabel('p')\n",
    "plt.ylabel('T', rotation = 0)\n",
    "plt.colorbar()\n",
    "plt.title('D_11')\n",
    "plt.savefig('d_11.png', format = 'png', dpi = 600)\n"
   ]
  },
  {
   "cell_type": "code",
   "execution_count": 26,
   "metadata": {},
   "outputs": [
    {
     "data": {
      "image/png": "[encoded data removed]",
      "text/plain": [
       "<Figure size 432x288 with 1 Axes>"
      ]
     },
     "metadata": {},
     "output_type": "display_data"
    },
    {
     "name": "stdout",
     "output_type": "stream",
     "text": [
      "[-4.9604e-02  1.2566e-02  1.1637e-01  1.0233e+00  8.6863e+00  7.1319e+01\n",
      "  5.6660e+02  4.3558e+03  3.2379e+04  2.3140e+05  1.5298e+06  7.6597e+06\n",
      "  1.8696e+07  2.3946e+07  2.5052e+07  2.5242e+07  2.5274e+07  2.5279e+07\n",
      "  2.5280e+07  2.5280e+07  2.5280e+07  2.5280e+07  2.5280e+07  2.5280e+07\n",
      "  2.5280e+07  2.5280e+07  2.5280e+07  2.5280e+07  2.5280e+07  2.5280e+07\n",
      "  2.5280e+07  2.5280e+07  2.5280e+07  2.5280e+07  2.5280e+07  2.5280e+07\n",
      " -2.7313e-04 -2.7313e-04 -2.7313e-04  2.7934e+01 -2.7313e-04 -2.7313e-04\n",
      " -2.7313e-04 -2.7313e-04 -2.7313e-04 -2.7313e-04 -2.7313e-04 -2.7313e-04\n",
      " -2.7313e-04 -2.7313e-04 -2.7313e-04 -2.7313e-04 -2.7313e-04 -2.7313e-04\n",
      " -2.7313e-04 -2.7313e-04 -2.7313e-04 -2.7313e-04 -2.7313e-04 -2.7313e-04\n",
      " -2.7313e-04 -2.7313e-04 -2.7313e-04 -2.7313e-04 -2.7313e-04 -2.7313e-04\n",
      " -2.7313e-04 -2.7313e-04 -2.7313e-04 -2.7313e-04 -2.7313e-04 -2.7313e-04\n",
      " -2.7313e-04 -2.7313e-04 -2.7313e-04 -2.7313e-04 -2.7313e-04 -2.7313e-04\n",
      " -2.7313e-04 -2.7313e-04 -2.7313e-04 -2.7313e-04 -2.7313e-04 -2.7313e-04\n",
      " -2.8674e-04 -2.8674e-04 -2.8674e-04  4.0084e+00 -2.8674e-04 -2.8674e-04\n",
      " -2.8674e-04 -2.8674e-04 -2.8674e-04 -2.8674e-04 -2.8674e-04 -2.8674e-04\n",
      " -2.8674e-04 -2.8674e-04 -2.8674e-04 -2.8674e-04 -2.8674e-04 -2.8674e-04\n",
      " -2.8674e-04 -2.8674e-04 -2.8674e-04 -2.8674e-04 -2.8674e-04 -2.8674e-04\n",
      " -2.8674e-04 -2.8674e-04 -2.8674e-04 -2.8674e-04 -2.8674e-04 -2.8674e-04\n",
      " -2.8674e-04 -2.8674e-04 -2.8674e-04 -2.8674e-04 -2.8674e-04 -2.8674e-04\n",
      " -2.8674e-04 -2.8674e-04 -2.4448e-04 -1.8766e-04]\n"
     ]
    },
    {
     "data": {
      "image/png": "[encoded data removed]",
      "text/plain": [
       "<Figure size 288x288 with 1 Axes>"
      ]
     },
     "metadata": {},
     "output_type": "display_data"
    }
   ],
   "source": [
    "# print(diff_coeffs[0, :100])\n",
    "\n",
    "\n",
    "diff_mat = np.reshape(diff_coeffs[0, :], (124, 124), order = 'F')\n",
    "plt.semilogy(diff_mat[:,0])\n",
    "plt.semilogy(diff_mat[:,1])\n",
    "plt.semilogy(diff_mat[:,2])\n",
    "plt.semilogy(diff_mat[:,3])\n",
    "plt.show()\n",
    "print(diff_mat[:,3])\n",
    "\n",
    "plt.matshow(diff_mat)\n",
    "plt.savefig('diff_matrix.png', format = 'png', dpi = 600)"
   ]
  },
  {
   "cell_type": "code",
   "execution_count": null,
   "metadata": {},
   "outputs": [],
   "source": []
  }
 ],
 "metadata": {
  "kernelspec": {
   "display_name": "Python 3",
   "language": "python",
   "name": "python3"
  },
  "language_info": {
   "codemirror_mode": {
    "name": "ipython",
    "version": 3
   },
   "file_extension": ".py",
   "mimetype": "text/x-python",
   "name": "python",
   "nbconvert_exporter": "python",
   "pygments_lexer": "ipython3",
   "version": "3.6.5"
  }
 },
 "nbformat": 4,
 "nbformat_minor": 2
}
